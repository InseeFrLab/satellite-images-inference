{
 "cells": [
  {
   "cell_type": "code",
   "execution_count": null,
   "id": "4f5454a5-0703-4de7-9993-77a0c2ac9d95",
   "metadata": {},
   "outputs": [],
   "source": [
    "! pip install geopandas"
   ]
  },
  {
   "cell_type": "code",
   "execution_count": null,
   "id": "27f2fb04-5a3c-4403-8588-0a37fcfbbf85",
   "metadata": {},
   "outputs": [],
   "source": [
    "import s3fs\n",
    "import mlflow\n",
    "import re\n",
    "from astrovision.data import SatelliteImage\n",
    "import geopandas as gpd\n",
    "from astrovision.plot import plot_images\n",
    "# mc cp --recursive  s3/projet-slums-detection/ilots/ ilots"
   ]
  },
  {
   "cell_type": "code",
   "execution_count": null,
   "id": "3bbada47-135e-4b67-8ec0-c0a5070d46f9",
   "metadata": {},
   "outputs": [],
   "source": [
    "%env MLFLOW_TRACKING_URI=https://projet-slums-detection-128833.user.lab.sspcloud.fr\n",
    "%env MLFLOW_S3_ENDPOINT_URL=https://minio.lab.sspcloud.fr\n",
    "\n",
    "# aller dans mlflow cliquer sur un modl et cliquer sur register pour créer ces variables\n",
    "model_name = \"Segmentation\"\n",
    "model_version = \"7\"\n",
    "model = mlflow.pyfunc.load_model(model_uri=f\"models:/{model_name}/{model_version}\")"
   ]
  },
  {
   "cell_type": "markdown",
   "id": "346ab1be-ccf0-4333-80de-f1cdbc7744a9",
   "metadata": {},
   "source": [
    "### Chargement des îlots"
   ]
  },
  {
   "cell_type": "markdown",
   "id": "27854787-918f-49e4-bdca-a1bf1291053e",
   "metadata": {},
   "source": [
    "Ya plus les IOU ?\n",
    "stocvkage moyenne variances dans les artifact MLFlow\n",
    "Ici je vais charger une table de contour géométriique d'ilot et créer une fonction qui à partir d'un contour polygonal d'îlot  et d'un modèle :\n",
    "\n",
    "1) récupère les images s'intersectant avec l'îlot (une année donnée) via leur nom (cooronnées du coin incluse dans le nom)\n",
    "2) un modèle vient faire des prédictions 01 ou en proba sur les images récupérées\n",
    "3) On somme les probabilités ou les 1 contenus dans l'ilôt (partie la plus subtile ? peut on cropper un raster ? je l'espère)\n",
    "4) on peut donc attribuer à l'îlot uner surface batie prédite par le modèle\n",
    "5) se permettre une représentation cartographique en représentant sur un même graphe le fond de carte donné par les patchs qui entour e complètement l'ilot (zone rectangulaire), les prédictions du modèle, et lîlot en question (ou bien d'une prédiction de réseau de neurones en probabilités) somme les1 du masque dans le contour de l'ilot\n",
    "\n",
    "Je travaille à partir du jeu de test d'images de Mayotte dans un premeir temps ppour avoir des masques prédits hors modèle et des ilots martiniques\n",
    "\n",
    "Petites remarques comme ça : Quand on est en prod on veut toutes les images du coup dans l'idée plutôt chopper les grosses images qui s'intersectent dans l'ilot, les spliter faire les prédictions et ne garder que les points dans l'ilot : moralité On repart des grosses images m^me si l'intersection est moins fine \n",
    "Problème d'EPSG\n",
    "\n",
    "PB : l'installation de requirements marche pas"
   ]
  },
  {
   "cell_type": "code",
   "execution_count": null,
   "id": "5236805e-52a3-4124-bcb0-76e7f88d928f",
   "metadata": {},
   "outputs": [],
   "source": [
    "si = SatelliteImage.from_raster(\n",
    "    file_path=\"/vsis3/projet-slums-detection/data-raw/PLEIADES/MAYOTTE/2020/ORT_2020052526656219_0505_8595_U38S_8Bits.jp2\",\n",
    "    dep=None,\n",
    "    date=None,\n",
    "    n_bands=3,\n",
    ")\n",
    "\n",
    "si.plot([0, 1, 2])"
   ]
  },
  {
   "cell_type": "markdown",
   "id": "60034653-2291-4d2a-a7fc-ec4b2a59323f",
   "metadata": {},
   "source": [
    " - ok dans  un premier temps je vais prendre l'le nom de l'image  récupérer les coordonnées\n",
    " - les transformer en point\n",
    " - et trouver quel ilot intersecte l'image\n"
   ]
  },
  {
   "cell_type": "markdown",
   "id": "465a3855",
   "metadata": {},
   "source": [
    "mc cp --recursive  s3/projet-slums-detection/ilots/ ilots"
   ]
  },
  {
   "cell_type": "code",
   "execution_count": null,
   "id": "001ead9c-d817-41d8-bc62-98a7fd5d8037",
   "metadata": {},
   "outputs": [],
   "source": [
    "# Load a shapefile\n",
    "fp = \"ilots/ilots_976.shp\"\n",
    "ilots_mayotte = gpd.read_file(fp)\n",
    "ilots_mayotte.head()"
   ]
  },
  {
   "cell_type": "markdown",
   "id": "edf3a8ee-f326-4d22-9e9c-c6c80af4905d",
   "metadata": {},
   "source": [
    "Je vais sélectionner les images qui tombent dans un ilot (ie où il y a intersection) et voir si je ne peux pas mettre 0 partou à l'extérieur de l'ilot"
   ]
  },
  {
   "cell_type": "code",
   "execution_count": null,
   "id": "673a60ad-104b-4e88-abb1-be5b89a0cfb4",
   "metadata": {},
   "outputs": [],
   "source": [
    "!AWS_ACCESS_KEY_ID=`vault kv get -field=ACCESS_KEY_ID onyxia-kv/projet-slums-detection/s3` && export AWS_ACCESS_KEY_ID\n",
    "!AWS_SECRET_ACCESS_KEY=`vault kv get -field=SECRET_ACCESS_KEY onyxia-kv/projet-slums-detection/s3` && export AWS_SECRET_ACCESS_KEY\n",
    "!unset AWS_SESSION_TOKEN"
   ]
  },
  {
   "cell_type": "code",
   "execution_count": null,
   "id": "c9719741-48a2-47bb-a647-371e3511250f",
   "metadata": {},
   "outputs": [],
   "source": [
    "# Create an S3 filesystem object\n",
    "fs = s3fs.S3FileSystem(client_kwargs={\"endpoint_url\": \"https://\" + \"minio.lab.sspcloud.fr\"})\n",
    "# Specify your bucket name and directory path\n",
    "bucket_name = \"projet-slums-detection\"\n",
    "directory_path = \"data-raw/PLEIADES/MAYOTTE/2022/\"\n",
    "\n",
    "# Create the full path\n",
    "full_path = f\"{bucket_name}/{directory_path}\"\n",
    "\n",
    "# List files in the specified directory\n",
    "files = fs.ls(full_path)\n",
    "\n",
    "print(files[:6])"
   ]
  },
  {
   "cell_type": "code",
   "execution_count": null,
   "id": "ff69ebea-40d7-4808-8b4e-74a01ed7fefb",
   "metadata": {},
   "outputs": [],
   "source": [
    "import pandas as pd\n",
    "from pyproj import Transformer\n",
    "from shapely.geometry import Polygon\n",
    "\n",
    "\n",
    "# Function to extract coordinates from filename, adjusted for meters\n",
    "def extract_coordinates(filename):\n",
    "    matches = re.findall(r\"\\d{4}\", filename)\n",
    "    if len(matches) >= 2:\n",
    "        return int(matches[-2]) * 1000, int(matches[-1]) * 1000\n",
    "    return None, None\n",
    "\n",
    "\n",
    "# Initialize the transformer from EPSG:4471 to WGS84\n",
    "transformer = Transformer.from_crs(\"EPSG:4471\", \"EPSG:4326\")\n",
    "\n",
    "# Define the length of the square's side (in meters)\n",
    "side_length = 1000  # Adjust as needed\n",
    "\n",
    "# Process filenames and transform coordinates to create squares\n",
    "data = []\n",
    "for filename in files:\n",
    "    x, y = extract_coordinates(filename)\n",
    "\n",
    "    if x and y:\n",
    "        # Define the square's corners in EPSG:4471\n",
    "        top_left = (x, y)\n",
    "        top_right = (x + side_length, y)\n",
    "        bottom_right = (x + side_length, y - side_length)\n",
    "        bottom_left = (x, y - side_length)\n",
    "\n",
    "        # Create a polygon from these corners\n",
    "        square = Polygon([top_left, top_right, bottom_right, bottom_left])\n",
    "\n",
    "        # Transform each corner to latitude and longitude\n",
    "        transformed_corners = [\n",
    "            (lat, lon)\n",
    "            for lon, lat in [transformer.transform(*corner) for corner in square.exterior.coords]\n",
    "        ]\n",
    "\n",
    "        # Create a new polygon with the transformed coordinates\n",
    "        square_lat_lon = Polygon(transformed_corners)\n",
    "\n",
    "        # Store the filename and the polygon\n",
    "        data.append({\"filename\": filename, \"geometry\": square_lat_lon})\n",
    "\n",
    "# Create a DataFrame\n",
    "df = pd.DataFrame(data)\n",
    "\n",
    "filename_to_polygon = gpd.GeoDataFrame(df, geometry=\"geometry\", crs=4326)\n",
    "filename_to_polygon.crs = \"EPSG:4326\"\n",
    "# This DataFrame now contains the filenames and the corresponding square polygons in latitude and longitude\n",
    "filename_to_polygon.head()"
   ]
  },
  {
   "cell_type": "code",
   "execution_count": null,
   "id": "06bb2b48-beea-4c2e-8bde-9d576e26fd39",
   "metadata": {},
   "outputs": [],
   "source": [
    "intersection_ilot_filename = gpd.sjoin(\n",
    "    ilots_mayotte, filename_to_polygon, how=\"inner\", predicate=\"intersects\"\n",
    ")\n",
    "print(intersection_ilot_filename)"
   ]
  },
  {
   "cell_type": "markdown",
   "id": "55cb7b53-221c-4f33-ac4d-f0d00890e833",
   "metadata": {},
   "source": [
    "TO DO : représenter les ilots et les images sur un meme graph"
   ]
  },
  {
   "cell_type": "code",
   "execution_count": null,
   "id": "2d4d18f5-a9ae-4b76-8f5f-f450d30f5a42",
   "metadata": {},
   "outputs": [],
   "source": [
    "filename_ilot = intersection_ilot_filename.loc[\n",
    "    intersection_ilot_filename[\"code_ilot\"] == \"0201\"\n",
    "].filename\n",
    "filename_ilot"
   ]
  },
  {
   "cell_type": "markdown",
   "id": "136f6f6a-7c93-43f1-b23d-88b4c84b5cad",
   "metadata": {},
   "source": [
    "Objectif : superposer la mosaique d'imlage extraite et le cntour d'ilot\n",
    "Superposer les prédictions du modèle\n",
    "comment cropper un raster avec un polygone ?"
   ]
  },
  {
   "cell_type": "markdown",
   "id": "20079781-2f56-41a6-b919-a432c5934054",
   "metadata": {},
   "source": [
    "#filename_ilot , créer la liste de si et faire la mosaique avec astrovision"
   ]
  },
  {
   "cell_type": "code",
   "execution_count": null,
   "id": "2d5a0bc6",
   "metadata": {},
   "outputs": [],
   "source": [
    "list_si = [\n",
    "    SatelliteImage.from_raster(\n",
    "        file_path=\"/vsis3/\" + fp,\n",
    "        dep=None,\n",
    "        date=None,\n",
    "        n_bands=3,\n",
    "    )\n",
    "    for fp in filename_ilot\n",
    "]"
   ]
  },
  {
   "cell_type": "code",
   "execution_count": null,
   "id": "166082f9",
   "metadata": {},
   "outputs": [],
   "source": [
    "list_si[2].plot([0, 1, 2])"
   ]
  },
  {
   "cell_type": "code",
   "execution_count": null,
   "id": "53811caa-8618-4782-966c-d55690c5df29",
   "metadata": {},
   "outputs": [],
   "source": [
    "plot_images(list_si[:2], [0, 1, 2])"
   ]
  }
 ],
 "metadata": {
  "kernelspec": {
   "display_name": "Python 3 (ipykernel)",
   "language": "python",
   "name": "python3"
  },
  "language_info": {
   "codemirror_mode": {
    "name": "ipython",
    "version": 3
   },
   "file_extension": ".py",
   "mimetype": "text/x-python",
   "name": "python",
   "nbconvert_exporter": "python",
   "pygments_lexer": "ipython3",
   "version": "3.11.6"
  }
 },
 "nbformat": 4,
 "nbformat_minor": 5
}
