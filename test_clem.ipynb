{
 "cells": [
  {
   "cell_type": "code",
   "execution_count": null,
   "id": "4f5454a5-0703-4de7-9993-77a0c2ac9d95",
   "metadata": {},
   "outputs": [],
   "source": [
    "! pip install geopandas"
   ]
  },
  {
   "cell_type": "code",
   "execution_count": null,
   "id": "27f2fb04-5a3c-4403-8588-0a37fcfbbf85",
   "metadata": {},
   "outputs": [],
   "source": [
    "import s3fs\n",
    "import mlflow\n",
    "import re\n",
    "import numpy as np\n",
    "from astrovision.plot import plot_images\n",
    "\n",
    "import geopandas as gpd\n",
    "import pandas as pd\n",
    "\n",
    "import yaml\n",
    "import albumentations as A\n",
    "from albumentations.pytorch.transforms import ToTensorV2\n",
    "\n",
    "from pyproj import Transformer\n",
    "from shapely.geometry import Polygon\n",
    "\n",
    "from astrovision.data import SatelliteImage, SegmentationLabeledSatelliteImage"
   ]
  },
  {
   "cell_type": "markdown",
   "id": "689f8c43",
   "metadata": {},
   "source": [
    "Récupération d'un modèle et test"
   ]
  },
  {
   "cell_type": "code",
   "execution_count": null,
   "id": "3bbada47-135e-4b67-8ec0-c0a5070d46f9",
   "metadata": {},
   "outputs": [],
   "source": [
    "%env MLFLOW_TRACKING_URI=https://projet-slums-detection-128833.user.lab.sspcloud.fr\n",
    "%env MLFLOW_S3_ENDPOINT_URL=https://minio.lab.sspcloud.fr\n",
    "\n",
    "# aller dans mlflow cliquer sur un modl et cliquer sur register pour créer ces variables\n",
    "model_name = \"test\"\n",
    "model_version = \"13\"\n",
    "\n",
    "model_mlflow = mlflow.pyfunc.load_model(model_uri=f\"models:/{model_name}/{model_version}\")\n",
    "n_bands = int(mlflow.get_run(model_mlflow.metadata.run_id).data.params[\"n_bands\"])"
   ]
  },
  {
   "cell_type": "code",
   "execution_count": null,
   "id": "6f52e7d3",
   "metadata": {},
   "outputs": [],
   "source": [
    "# Import normalization metrics\n",
    "params = yaml.safe_load(\n",
    "    mlflow.artifacts.load_text(\n",
    "        f\"{mlflow.get_run(model_mlflow.metadata.run_id).info.artifact_uri}/model/code/metrics-normalization.yaml\"\n",
    "    )\n",
    ")\n",
    "normalization_mean, normalization_std = params[\"mean\"], params[\"std\"]\n",
    "normalization_mean, normalization_std = (\n",
    "    normalization_mean[:n_bands],\n",
    "    normalization_std[:n_bands],\n",
    ")\n",
    "\n",
    "# Load an image\n",
    "si = SatelliteImage.from_raster(\n",
    "    file_path=\"/vsis3/projet-slums-detection/golden-test/patchs/segmentation/PLEIADES/MAYOTTE_CLEAN/2022/250/ORT_976_2022_0524_8587_U38S_8Bits_0005.jp2\",\n",
    "    dep=None,\n",
    "    date=None,\n",
    "    n_bands=n_bands,\n",
    ")\n",
    "\n",
    "# reproduce transform\n",
    "transform = A.Compose(\n",
    "    [\n",
    "        A.Normalize(\n",
    "            max_pixel_value=255.0,\n",
    "            mean=normalization_mean,\n",
    "            std=normalization_std,\n",
    "        ),\n",
    "        ToTensorV2(),\n",
    "    ]\n",
    ")\n",
    "\n",
    "# normalize the image\n",
    "# normalized_si = transform(image=np.transpose(si.array, [1, 2, 0]))[\"image\"].unsqueeze(dim=0).numpy()\n",
    "normalized_si = transform(image=np.transpose(si.array, [1, 2, 0]))[\"image\"].unsqueeze(dim=0)\n",
    "\n",
    "# predict the mask\n",
    "# mask = (torch.tensor(model.predict(normalized_si)).softmax(dim=1)[:,1,:,:] > 0.5).numpy()[0,:,:]\n",
    "# mask = (torch.tensor(model.predict(normalized_si)).sigmoid() > 0.5).numpy()\n",
    "mask = model_mlflow.predict(normalized_si).sigmoid() > 0.5\n",
    "\n",
    "lsi = SegmentationLabeledSatelliteImage(si, mask)\n",
    "\n",
    "plot = lsi.plot(bands_indices=[0, 1, 2])"
   ]
  },
  {
   "cell_type": "markdown",
   "id": "346ab1be-ccf0-4333-80de-f1cdbc7744a9",
   "metadata": {},
   "source": [
    "### Chargement des îlots"
   ]
  },
  {
   "cell_type": "markdown",
   "id": "27854787-918f-49e4-bdca-a1bf1291053e",
   "metadata": {},
   "source": [
    "Ya plus les IOU ?\n",
    "stocvkage moyenne variances dans les artifact MLFlow\n",
    "Ici je vais charger une table de contour géométriique d'ilot et créer une fonction qui à partir d'un contour polygonal d'îlot  et d'un modèle :\n",
    "\n",
    "1) récupère les images s'intersectant avec l'îlot (une année donnée) via leur nom (cooronnées du coin incluse dans le nom)\n",
    "2) un modèle vient faire des prédictions 01 ou en proba sur les images récupérées\n",
    "3) On somme les probabilités ou les 1 contenus dans l'ilôt (partie la plus subtile ? peut on cropper un raster ? je l'espère)\n",
    "4) on peut donc attribuer à l'îlot uner surface batie prédite par le modèle\n",
    "5) se permettre une représentation cartographique en représentant sur un même graphe le fond de carte donné par les patchs qui entour e complètement l'ilot (zone rectangulaire), les prédictions du modèle, et lîlot en question (ou bien d'une prédiction de réseau de neurones en probabilités) somme les1 du masque dans le contour de l'ilot\n",
    "\n",
    "Je travaille à partir du jeu de test d'images de Mayotte dans un premeir temps ppour avoir des masques prédits hors modèle et des ilots martiniques\n",
    "\n",
    "Petites remarques comme ça : Quand on est en prod on veut toutes les images du coup dans l'idée plutôt chopper les grosses images qui s'intersectent dans l'ilot, les spliter faire les prédictions et ne garder que les points dans l'ilot : moralité On repart des grosses images m^me si l'intersection est moins fine \n",
    "Problème d'EPSG\n",
    "\n",
    "PB : l'installation de requirements marche pas"
   ]
  },
  {
   "cell_type": "markdown",
   "id": "60034653-2291-4d2a-a7fc-ec4b2a59323f",
   "metadata": {},
   "source": [
    " - ok dans  un premier temps je vais prendre l'le nom de l'image  récupérer les coordonnées\n",
    " - les transformer en point\n",
    " - et trouver quel ilot intersecte l'image\n"
   ]
  },
  {
   "cell_type": "markdown",
   "id": "465a3855",
   "metadata": {},
   "source": [
    "mc cp --recursive  s3/projet-slums-detection/ilots/ ilots"
   ]
  },
  {
   "cell_type": "code",
   "execution_count": null,
   "id": "3d5632e9",
   "metadata": {},
   "outputs": [],
   "source": [
    "fs = s3fs.S3FileSystem(client_kwargs={\"endpoint_url\": \"https://\" + \"minio.lab.sspcloud.fr\"})\n",
    "fs.download(rpath=\"projet-slums-detection/ilots\", lpath=\"ilots\", recursive=True)"
   ]
  },
  {
   "cell_type": "code",
   "execution_count": null,
   "id": "001ead9c-d817-41d8-bc62-98a7fd5d8037",
   "metadata": {},
   "outputs": [],
   "source": [
    "# Load a shapefile\n",
    "fp = \"ilots/ilots_976.shp\"\n",
    "ilots_mayotte = gpd.read_file(fp)\n",
    "ilots_mayotte.head()"
   ]
  },
  {
   "cell_type": "markdown",
   "id": "edf3a8ee-f326-4d22-9e9c-c6c80af4905d",
   "metadata": {},
   "source": [
    "Je vais sélectionner les images qui tombent dans un ilot (ie où il y a intersection) et voir si je ne peux pas mettre 0 partou à l'extérieur de l'ilot"
   ]
  },
  {
   "cell_type": "code",
   "execution_count": null,
   "id": "c9719741-48a2-47bb-a647-371e3511250f",
   "metadata": {},
   "outputs": [],
   "source": [
    "bucket_name = \"projet-slums-detection\"\n",
    "directory_path = \"data-raw/PLEIADES/MAYOTTE/2022/\"\n",
    "\n",
    "full_path = f\"{bucket_name}/{directory_path}\"\n",
    "files = fs.ls(full_path)\n",
    "\n",
    "print(files[:6])"
   ]
  },
  {
   "cell_type": "code",
   "execution_count": null,
   "id": "ff69ebea-40d7-4808-8b4e-74a01ed7fefb",
   "metadata": {},
   "outputs": [],
   "source": [
    "# Function to extract coordinates from filename, adjusted for meters\n",
    "def extract_coordinates(filename):\n",
    "    matches = re.findall(r\"\\d{4}\", filename)\n",
    "    if len(matches) >= 2:\n",
    "        return int(matches[-2]) * 1000, int(matches[-1]) * 1000\n",
    "    return None, None\n",
    "\n",
    "\n",
    "# Initialize the transformer from EPSG:4471 to WGS84\n",
    "transformer = Transformer.from_crs(\"EPSG:4471\", \"EPSG:4326\")\n",
    "\n",
    "# Define the length of the square's side (in meters)\n",
    "side_length = 1000  # Adjust as needed\n",
    "\n",
    "# Process filenames and transform coordinates to create squares\n",
    "data = []\n",
    "for filename in files:\n",
    "    x, y = extract_coordinates(filename)\n",
    "\n",
    "    if x and y:\n",
    "        # Define the square's corners in EPSG:4471\n",
    "        top_left = (x, y)\n",
    "        top_right = (x + side_length, y)\n",
    "        bottom_right = (x + side_length, y - side_length)\n",
    "        bottom_left = (x, y - side_length)\n",
    "\n",
    "        # Create a polygon from these corners\n",
    "        square = Polygon([top_left, top_right, bottom_right, bottom_left])\n",
    "\n",
    "        # Transform each corner to latitude and longitude\n",
    "        transformed_corners = [\n",
    "            (lat, lon)\n",
    "            for lon, lat in [transformer.transform(*corner) for corner in square.exterior.coords]\n",
    "        ]\n",
    "\n",
    "        # Create a new polygon with the transformed coordinates\n",
    "        square_lat_lon = Polygon(transformed_corners)\n",
    "\n",
    "        # Store the filename and the polygon\n",
    "        data.append({\"filename\": filename, \"geometry\": square_lat_lon})\n",
    "\n",
    "# Create a DataFrame\n",
    "df = pd.DataFrame(data)\n",
    "\n",
    "filename_to_polygon = gpd.GeoDataFrame(df, geometry=\"geometry\", crs=4326)\n",
    "filename_to_polygon.crs = \"EPSG:4326\"\n",
    "# This DataFrame now contains the filenames and the corresponding square polygons in latitude and longitude\n",
    "filename_to_polygon.head()"
   ]
  },
  {
   "cell_type": "code",
   "execution_count": null,
   "id": "06bb2b48-beea-4c2e-8bde-9d576e26fd39",
   "metadata": {},
   "outputs": [],
   "source": [
    "intersection_ilot_filename = gpd.sjoin(\n",
    "    ilots_mayotte, filename_to_polygon, how=\"inner\", predicate=\"intersects\"\n",
    ")\n",
    "\n",
    "intersection_ilot_filename.groupby(\"code_ilot\").size().reset_index(name=\"count\").sort_values(\n",
    "    by=\"count\", ascending=False\n",
    ")"
   ]
  },
  {
   "cell_type": "markdown",
   "id": "55cb7b53-221c-4f33-ac4d-f0d00890e833",
   "metadata": {},
   "source": [
    "TO DO : représenter les ilots et les images sur un meme graph\n",
    "Travail sur l'ilot 802 qui n'intersecte qu'une imagee :\n",
    "1) récupération du polygon carré et de l'ilot\n",
    "2) rasteriser l'intersection\n",
    "\n"
   ]
  },
  {
   "cell_type": "code",
   "execution_count": null,
   "id": "2d4d18f5-a9ae-4b76-8f5f-f450d30f5a42",
   "metadata": {},
   "outputs": [],
   "source": [
    "filename_ilot = intersection_ilot_filename.loc[\n",
    "    intersection_ilot_filename[\"code_ilot\"] == \"0802\"\n",
    "].filename\n",
    "\n",
    "polygon_ilot = intersection_ilot_filename.loc[\n",
    "    intersection_ilot_filename[\"code_ilot\"] == \"0802\"\n",
    "].geometry.iloc[0]\n",
    "\n",
    "polygon_ilot"
   ]
  },
  {
   "cell_type": "code",
   "execution_count": null,
   "id": "517ae4f8",
   "metadata": {},
   "outputs": [],
   "source": [
    "filename_to_polygon"
   ]
  },
  {
   "cell_type": "code",
   "execution_count": null,
   "id": "e746c870",
   "metadata": {},
   "outputs": [],
   "source": [
    "print(type(filename_ilot.iloc[0]))\n",
    "filename_ilot.iloc[0]"
   ]
  },
  {
   "cell_type": "code",
   "execution_count": null,
   "id": "1e23d0f4",
   "metadata": {},
   "outputs": [],
   "source": [
    "intersection_ilot_filename\n",
    "polygon_image = filename_to_polygon.loc[\n",
    "    filename_to_polygon[\"filename\"] == filename_ilot.iloc[0]\n",
    "].geometry.iloc[0]\n",
    "\n",
    "polygon_image"
   ]
  },
  {
   "cell_type": "code",
   "execution_count": null,
   "id": "88bf0fa6",
   "metadata": {},
   "outputs": [],
   "source": [
    "intersection_ilot_image_polygon = polygon_image.intersection(polygon_ilot)\n",
    "intersection_ilot_image_polygon"
   ]
  },
  {
   "cell_type": "code",
   "execution_count": null,
   "id": "551690ca",
   "metadata": {},
   "outputs": [],
   "source": [
    "from shapely.geometry import MultiPolygon\n",
    "\n",
    "multipolygone_union = MultiPolygon([polygon_image, intersection_ilot_image_polygon])\n",
    "multipolygone_union"
   ]
  },
  {
   "cell_type": "markdown",
   "id": "d3c3c1e4",
   "metadata": {},
   "source": [
    "### Plus qu'à rasteriser tout ça"
   ]
  },
  {
   "cell_type": "code",
   "execution_count": null,
   "id": "3aa75ea5",
   "metadata": {},
   "outputs": [],
   "source": [
    "import rasterio\n",
    "from rasterio.features import rasterize\n",
    "\n",
    "# rasterio.transform.from_bounds\n",
    "x_min, y_min, x_max, y_max = polygon_image.bounds\n",
    "transform = rasterio.transform.from_bounds(x_min, y_min, x_max, y_max, 2000, 2000)\n",
    "\n",
    "raster_complet = np.zeros((2000, 2000), dtype=np.uint8)\n",
    "\n",
    "valeur_polygone = 1\n",
    "\n",
    "# Rasteriser le polygone actuel avec une valeur unique\n",
    "raster_polygone = rasterize(\n",
    "    [(intersection_ilot_image_polygon, valeur_polygone)],\n",
    "    out_shape=(2000, 2000),\n",
    "    transform=transform,\n",
    ")\n",
    "\n",
    "# Mettre à jour le raster complet avec les valeurs du polygone actuel\n",
    "# Note: cela écrasera les valeurs dans les zones de chevauchement\n",
    "raster_complet[raster_polygone > 0] = valeur_polygone"
   ]
  },
  {
   "cell_type": "code",
   "execution_count": null,
   "id": "a155ea65",
   "metadata": {},
   "outputs": [],
   "source": [
    "import matplotlib.pyplot as plt\n",
    "# Afficher l'image satellite\n",
    "# plt.imshow(image_satellite, cmap='gray')  # Utilisez cmap='gray' pour une image en niveaux de gris ou omettez pour une image RGB\n",
    "\n",
    "# Superposer le raster\n",
    "# Utilisez 'alpha' pour régler la transparence de la superposition du raster\n",
    "plt.imshow(\n",
    "    raster_complet, cmap=\"jet\", alpha=0.5\n",
    ")  # 'jet' est un exemple de colormap, ajustez selon le résultat désiré\n",
    "\n",
    "# Optionnel : Ajouter des titres, légendes, etc.\n",
    "plt.title(\"Image Satellite avec Polygone Rasterisé Superposé\")\n",
    "plt.xlabel(\"Coordonnée X\")\n",
    "plt.ylabel(\"Coordonnée Y\")\n",
    "\n",
    "# Afficher le graphique\n",
    "plt.show()"
   ]
  },
  {
   "cell_type": "markdown",
   "id": "136f6f6a-7c93-43f1-b23d-88b4c84b5cad",
   "metadata": {},
   "source": [
    "Objectif : superposer la mosaique d'imlage extraite et le cntour d'ilot\n",
    "Superposer les prédictions du modèle\n",
    "comment cropper un raster avec un polygone ?"
   ]
  },
  {
   "cell_type": "markdown",
   "id": "20079781-2f56-41a6-b919-a432c5934054",
   "metadata": {},
   "source": [
    "#filename_ilot , créer la liste de si et faire la mosaique avec astrovision"
   ]
  },
  {
   "cell_type": "code",
   "execution_count": null,
   "id": "2d5a0bc6",
   "metadata": {},
   "outputs": [],
   "source": [
    "list_si = [\n",
    "    SatelliteImage.from_raster(\n",
    "        file_path=\"/vsis3/\" + fp,\n",
    "        dep=None,\n",
    "        date=None,\n",
    "        n_bands=3,\n",
    "    )\n",
    "    for fp in filename_ilot\n",
    "]"
   ]
  },
  {
   "cell_type": "code",
   "execution_count": null,
   "id": "166082f9",
   "metadata": {},
   "outputs": [],
   "source": [
    "list_si[0].plot([0, 1, 2])"
   ]
  },
  {
   "cell_type": "code",
   "execution_count": null,
   "id": "53811caa-8618-4782-966c-d55690c5df29",
   "metadata": {},
   "outputs": [],
   "source": [
    "plot_images(list_si, [0, 1, 2])"
   ]
  },
  {
   "cell_type": "markdown",
   "id": "c6c59f19",
   "metadata": {},
   "source": [
    "## Test API"
   ]
  },
  {
   "cell_type": "code",
   "execution_count": null,
   "id": "c67c265e",
   "metadata": {},
   "outputs": [],
   "source": [
    "%env MLFLOW_TRACKING_URI=https://projet-slums-detection-128833.user.lab.sspcloud.fr\n",
    "%env MLFLOW_S3_ENDPOINT_URL=https://minio.lab.sspcloud.fr\n",
    "!AWS_ACCESS_KEY_ID=`vault kv get -field=ACCESS_KEY_ID onyxia-kv/projet-slums-detection/s3` && export AWS_ACCESS_KEY_ID\n",
    "!AWS_SECRET_ACCESS_KEY=`vault kv get -field=SECRET_ACCESS_KEY onyxia-kv/projet-slums-detection/s3` && export AWS_SECRET_ACCESS_KEY\n",
    "!unset AWS_SESSION_TOKEN"
   ]
  },
  {
   "cell_type": "code",
   "execution_count": null,
   "id": "7313a925",
   "metadata": {},
   "outputs": [],
   "source": [
    "import requests\n",
    "import numpy as np\n",
    "from astrovision.data import SatelliteImage, SegmentationLabeledSatelliteImage\n",
    "\n",
    "image_path = \"projet-slums-detection/golden-test/patchs/segmentation/PLEIADES/MAYOTTE_CLEAN/2022/250/ORT_976_2022_0524_8587_U38S_8Bits_0005.jp2\"\n",
    "response = requests.get(\n",
    "    \"https://satellite-images-inference.lab.sspcloud.fr/predict\", params={\"image\": image_path}\n",
    ")\n",
    "\n",
    "lsi = SegmentationLabeledSatelliteImage(\n",
    "    SatelliteImage.from_raster(\n",
    "        file_path=f\"/vsis3/{image_path}\",\n",
    "        dep=None,\n",
    "        date=None,\n",
    "        n_bands=3,\n",
    "    ),\n",
    "    np.array(response.json()[\"mask\"]),\n",
    ")\n",
    "plot = lsi.plot(bands_indices=[0, 1, 2])"
   ]
  },
  {
   "cell_type": "code",
   "execution_count": null,
   "id": "c7c46b35",
   "metadata": {},
   "outputs": [],
   "source": []
  }
 ],
 "metadata": {
  "kernelspec": {
   "display_name": "Python 3 (ipykernel)",
   "language": "python",
   "name": "python3"
  },
  "language_info": {
   "codemirror_mode": {
    "name": "ipython",
    "version": 3
   },
   "file_extension": ".py",
   "mimetype": "text/x-python",
   "name": "python",
   "nbconvert_exporter": "python",
   "pygments_lexer": "ipython3",
   "version": "3.11.6"
  }
 },
 "nbformat": 4,
 "nbformat_minor": 5
}
