{
 "cells": [
  {
   "cell_type": "code",
   "execution_count": null,
   "id": "4f5454a5-0703-4de7-9993-77a0c2ac9d95",
   "metadata": {},
   "outputs": [],
   "source": [
    "#! pip install geopandas\n",
    "#! pip uninstall astrovision\n",
    "! pip install astrovision"
   ]
  },
  {
   "cell_type": "code",
   "execution_count": null,
   "id": "27f2fb04-5a3c-4403-8588-0a37fcfbbf85",
   "metadata": {},
   "outputs": [],
   "source": [
    "import s3fs\n",
    "import re\n",
    "import numpy as np\n",
    "from astrovision.plot.plot_utils import make_mosaic\n",
    "\n",
    "import geopandas as gpd\n",
    "import pandas as pd\n",
    "import os\n",
    "\n",
    "from pyproj import Transformer\n",
    "from shapely.geometry import Polygon\n",
    "\n",
    "from astrovision.data import SatelliteImage, SegmentationLabeledSatelliteImage\n",
    "\n",
    "import rasterio\n",
    "from rasterio.features import rasterize\n",
    "\n",
    "import matplotlib.pyplot as plt"
   ]
  },
  {
   "cell_type": "markdown",
   "id": "689f8c43",
   "metadata": {},
   "source": [
    "## Test API"
   ]
  },
  {
   "cell_type": "code",
   "execution_count": null,
   "id": "3bbada47-135e-4b67-8ec0-c0a5070d46f9",
   "metadata": {},
   "outputs": [],
   "source": [
    "%env MLFLOW_TRACKING_URI=https://projet-slums-detection-128833.user.lab.sspcloud.fr\n",
    "%env MLFLOW_S3_ENDPOINT_URL=https://minio.lab.sspcloud.fr"
   ]
  },
  {
   "cell_type": "code",
   "execution_count": null,
   "id": "8760160c",
   "metadata": {},
   "outputs": [],
   "source": [
    "%env AWS_ACCESS_KEY_ID=projet-slums-key\n",
    "%env AWS_SECRET_ACCESS_KEY=\n",
    "del os.environ[\"AWS_SESSION_TOKEN\"]"
   ]
  },
  {
   "cell_type": "code",
   "execution_count": null,
   "id": "4c8317e2",
   "metadata": {},
   "outputs": [],
   "source": [
    "import requests\n",
    "\n",
    "image_path = \"projet-slums-detection/golden-test/patchs/segmentation/PLEIADES/MAYOTTE_CLEAN/2022/250/ORT_976_2022_0524_8587_U38S_8Bits_0011.jp2\"\n",
    "# image_path = \"projet-slums-detection/data-preprocessed/patchs/BDTOPO/segmentation/PLEIADES/GUADELOUPE/2022/250/train/ORT_971_2022_0627_1797_U20N_8bits_0037.jp2\"\n",
    "# image_path = \"projet-slums-detection/data-preprocessed/patchs/BDTOPO/segmentation/PLEIADES/GUADELOUPE/2022/250/train/ORT_971_2022_0627_1799_U20N_8bits_0049.jp2\"\n",
    "# image_path = \"projet-slums-detection/data-preprocessed/patchs/BDTOPO/segmentation/PLEIADES/GUADELOUPE/2022/250/train/ORT_971_2022_0627_1801_U20N_8bits_0042.jp2\"\n",
    "\n",
    "response = requests.get(\n",
    "    \"https://satellite-images-inference.lab.sspcloud.fr/predict\", params={\"image\": image_path}\n",
    ")\n",
    "\n",
    "lsi = SegmentationLabeledSatelliteImage(\n",
    "    SatelliteImage.from_raster(\n",
    "        file_path=f\"/vsis3/{image_path}\",\n",
    "        dep=None,\n",
    "        date=None,\n",
    "        n_bands=3,\n",
    "    ),\n",
    "    np.array(response.json()[\"mask\"]),\n",
    ")\n",
    "plot = lsi.plot(bands_indices=[0, 1, 2])\n",
    "\n",
    "# lsi.label"
   ]
  },
  {
   "cell_type": "markdown",
   "id": "14bd6678",
   "metadata": {},
   "source": [
    "## Test make_mosaic"
   ]
  },
  {
   "cell_type": "code",
   "execution_count": null,
   "id": "85a7d406",
   "metadata": {},
   "outputs": [],
   "source": [
    "si = SatelliteImage.from_raster(\n",
    "    file_path=f\"/vsis3/{image_path}\",\n",
    "    dep=None,\n",
    "    date=None,\n",
    "    n_bands=3,\n",
    ")\n",
    "\n",
    "liste_si = si.split(250)\n",
    "si2 = make_mosaic(liste_si, [0, 1, 2])\n",
    "si2.array = si2.array.astype(int)\n",
    "si2.plot([0, 1, 2])"
   ]
  },
  {
   "cell_type": "markdown",
   "id": "346ab1be-ccf0-4333-80de-f1cdbc7744a9",
   "metadata": {},
   "source": [
    "### Chargement des îlots"
   ]
  },
  {
   "cell_type": "markdown",
   "id": "27854787-918f-49e4-bdca-a1bf1291053e",
   "metadata": {},
   "source": [
    "Ya plus les IOU ?\n",
    "stocvkage moyenne variances dans les artifact MLFlow\n",
    "Ici je vais charger une table de contour géométriique d'ilot et créer une fonction qui à partir d'un contour polygonal d'îlot  et d'un modèle :\n",
    "\n",
    "1) récupère les images s'intersectant avec l'îlot (une année donnée) via leur nom (cooronnées du coin incluse dans le nom)\n",
    "2) un modèle vient faire des prédictions 01 ou en proba sur les images récupérées\n",
    "3) On somme les probabilités ou les 1 contenus dans l'ilôt (partie la plus subtile ? peut on cropper un raster ? je l'espère)\n",
    "4) on peut donc attribuer à l'îlot uner surface batie prédite par le modèle\n",
    "5) se permettre une représentation cartographique en représentant sur un même graphe le fond de carte donné par les patchs qui entour e complètement l'ilot (zone rectangulaire), les prédictions du modèle, et lîlot en question (ou bien d'une prédiction de réseau de neurones en probabilités) somme les1 du masque dans le contour de l'ilot\n",
    "\n",
    "Je travaille à partir du jeu de test d'images de Mayotte dans un premeir temps ppour avoir des masques prédits hors modèle et des ilots martiniques\n",
    "\n",
    "Petites remarques comme ça : Quand on est en prod on veut toutes les images du coup dans l'idée plutôt chopper les grosses images qui s'intersectent dans l'ilot, les spliter faire les prédictions et ne garder que les points dans l'ilot : moralité On repart des grosses images m^me si l'intersection est moins fine \n",
    "Problème d'EPSG\n",
    "\n",
    "PB : l'installation de requirements marche pas"
   ]
  },
  {
   "cell_type": "markdown",
   "id": "60034653-2291-4d2a-a7fc-ec4b2a59323f",
   "metadata": {},
   "source": [
    " - ok dans  un premier temps je vais prendre l'le nom de l'image  récupérer les coordonnées\n",
    " - les transformer en point\n",
    " - et trouver quel ilot intersecte l'image\n"
   ]
  },
  {
   "cell_type": "markdown",
   "id": "465a3855",
   "metadata": {},
   "source": [
    "mc cp --recursive  s3/projet-slums-detection/ilots/ ilots"
   ]
  },
  {
   "cell_type": "code",
   "execution_count": null,
   "id": "3d5632e9",
   "metadata": {},
   "outputs": [],
   "source": [
    "fs = s3fs.S3FileSystem(client_kwargs={\"endpoint_url\": \"https://\" + \"minio.lab.sspcloud.fr\"})\n",
    "fs.download(rpath=\"projet-slums-detection/ilots\", lpath=\"ilots\", recursive=True)"
   ]
  },
  {
   "cell_type": "code",
   "execution_count": null,
   "id": "001ead9c-d817-41d8-bc62-98a7fd5d8037",
   "metadata": {},
   "outputs": [],
   "source": [
    "# Load a shapefile\n",
    "fp = \"ilots/ilots_976.shp\"\n",
    "ilots_mayotte = gpd.read_file(fp)\n",
    "ilots_mayotte.head()"
   ]
  },
  {
   "cell_type": "markdown",
   "id": "edf3a8ee-f326-4d22-9e9c-c6c80af4905d",
   "metadata": {},
   "source": [
    "Je vais sélectionner les images qui tombent dans un ilot (ie où il y a intersection) et voir si je ne peux pas mettre 0 partou à l'extérieur de l'ilot"
   ]
  },
  {
   "cell_type": "code",
   "execution_count": null,
   "id": "c9719741-48a2-47bb-a647-371e3511250f",
   "metadata": {},
   "outputs": [],
   "source": [
    "bucket_name = \"projet-slums-detection\"\n",
    "directory_path = \"data-raw/PLEIADES/MAYOTTE/2022/\"\n",
    "\n",
    "full_path = f\"{bucket_name}/{directory_path}\"\n",
    "files = fs.ls(full_path)\n",
    "\n",
    "print(files[:6])"
   ]
  },
  {
   "cell_type": "code",
   "execution_count": null,
   "id": "ff69ebea-40d7-4808-8b4e-74a01ed7fefb",
   "metadata": {},
   "outputs": [],
   "source": [
    "# Function to extract coordinates from filename, adjusted for meters\n",
    "def extract_coordinates(filename):\n",
    "    matches = re.findall(r\"\\d{4}\", filename)\n",
    "    if len(matches) >= 2:\n",
    "        return int(matches[-2]) * 1000, int(matches[-1]) * 1000\n",
    "    return None, None\n",
    "\n",
    "\n",
    "# Initialize the transformer from EPSG:4471 to WGS84\n",
    "transformer = Transformer.from_crs(\"EPSG:4471\", \"EPSG:4326\")\n",
    "\n",
    "# Define the length of the square's side (in meters)\n",
    "side_length = 1000  # Adjust as needed\n",
    "\n",
    "# Process filenames and transform coordinates to create squares\n",
    "data = []\n",
    "for filename in files:\n",
    "    x, y = extract_coordinates(filename)\n",
    "\n",
    "    if x and y:\n",
    "        # Define the square's corners in EPSG:4471\n",
    "        top_left = (x, y)\n",
    "        top_right = (x + side_length, y)\n",
    "        bottom_right = (x + side_length, y - side_length)\n",
    "        bottom_left = (x, y - side_length)\n",
    "\n",
    "        # Create a polygon from these corners\n",
    "        square = Polygon([top_left, top_right, bottom_right, bottom_left])\n",
    "\n",
    "        # Transform each corner to latitude and longitude\n",
    "        transformed_corners = [\n",
    "            (lat, lon)\n",
    "            for lon, lat in [transformer.transform(*corner) for corner in square.exterior.coords]\n",
    "        ]\n",
    "\n",
    "        # Create a new polygon with the transformed coordinates\n",
    "        square_lat_lon = Polygon(transformed_corners)\n",
    "\n",
    "        # Store the filename and the polygon\n",
    "        data.append({\"filename\": filename, \"geometry\": square_lat_lon})\n",
    "\n",
    "# Create a DataFrame\n",
    "df = pd.DataFrame(data)\n",
    "\n",
    "filename_to_polygon = gpd.GeoDataFrame(df, geometry=\"geometry\", crs=4326)\n",
    "filename_to_polygon.crs = \"EPSG:4326\"\n",
    "# This DataFrame now contains the filenames and the corresponding square polygons in latitude and longitude\n",
    "filename_to_polygon.head()"
   ]
  },
  {
   "cell_type": "code",
   "execution_count": null,
   "id": "06bb2b48-beea-4c2e-8bde-9d576e26fd39",
   "metadata": {},
   "outputs": [],
   "source": [
    "intersection_ilot_filename = gpd.sjoin(\n",
    "    ilots_mayotte, filename_to_polygon, how=\"inner\", predicate=\"intersects\"\n",
    ")\n",
    "\n",
    "intersection_ilot_filename.groupby(\"code_ilot\").size().reset_index(name=\"count\").sort_values(\n",
    "    by=\"count\", ascending=False\n",
    ").to_csv(\"comptage_ilots.csv\", index=False)"
   ]
  },
  {
   "cell_type": "markdown",
   "id": "55cb7b53-221c-4f33-ac4d-f0d00890e833",
   "metadata": {},
   "source": [
    "## Traitement d'un îlot :\n",
    "\n",
    "- A un ilot correspond une liste de grosses images.\n",
    "- On split chacune de ces grosses images en 64 images, on applique le modèle dessus et on refusionne l'ensemble (images et masques)\n",
    "- ensuite je détermine le masque ilot qui donne l'apaprtenance de chaque pixel a l'ilot sur la grosse image ce qui me permet d'extirper le masque ilot\n"
   ]
  },
  {
   "cell_type": "markdown",
   "id": "5db7f8e1",
   "metadata": {},
   "source": [
    "Je commence avec l'ilot 824 et ses 3 images"
   ]
  },
  {
   "cell_type": "code",
   "execution_count": null,
   "id": "9de5f717",
   "metadata": {},
   "outputs": [],
   "source": [
    "num_ilot = \"0136\"\n",
    "ilots_mayotte.loc[ilots_mayotte.code_ilot == num_ilot].geometry.iloc[0]"
   ]
  },
  {
   "cell_type": "code",
   "execution_count": null,
   "id": "2df04b72",
   "metadata": {},
   "outputs": [],
   "source": [
    "filenames_ilot = intersection_ilot_filename.loc[\n",
    "    intersection_ilot_filename[\"code_ilot\"] == num_ilot\n",
    "].filename\n",
    "\n",
    "polygons_ilot = intersection_ilot_filename.loc[\n",
    "    intersection_ilot_filename[\"code_ilot\"] == num_ilot\n",
    "].geometry"
   ]
  },
  {
   "cell_type": "code",
   "execution_count": null,
   "id": "41dbafca",
   "metadata": {},
   "outputs": [],
   "source": [
    "def construire_raster_ilot(polygon, filename):\n",
    "    # je recupere le carré de la grosse image sous forme de polygone\n",
    "    polygon_image = filename_to_polygon.loc[\n",
    "        filename_to_polygon[\"filename\"] == filename\n",
    "    ].geometry.iloc[0]\n",
    "\n",
    "    # intersection avec l'ilot en cours\n",
    "    intersection_ilot_image_polygon = polygon_image.intersection(polygon)\n",
    "\n",
    "    # pour visualiser seulement :\n",
    "    # multipolygone_union = MultiPolygon([polygon_image, intersection_ilot_image_polygon])\n",
    "    # multipolygone_union\n",
    "\n",
    "    # rasterio.transform.from_bounds\n",
    "    x_min, y_min, x_max, y_max = polygon_image.bounds\n",
    "    transform = rasterio.transform.from_bounds(x_min, y_min, x_max, y_max, 2000, 2000)\n",
    "\n",
    "    valeur_polygone = 1\n",
    "\n",
    "    # Rasteriser le polygone actuel avec une valeur unique\n",
    "    raster_polygone = rasterize(\n",
    "        [(intersection_ilot_image_polygon, valeur_polygone)],\n",
    "        out_shape=(2000, 2000),\n",
    "        transform=transform,\n",
    "    )\n",
    "\n",
    "    return raster_polygone\n",
    "\n",
    "\n",
    "def representer_bout_ilot(polygon, filename):\n",
    "    raster_image = construire_raster_ilot(polygon, filename)\n",
    "\n",
    "    si = SatelliteImage.from_raster(\n",
    "        file_path=\"/vsis3/\" + filename,\n",
    "        dep=None,\n",
    "        date=None,\n",
    "        n_bands=3,\n",
    "    )\n",
    "    bands_indices = [0, 1, 2]\n",
    "    fig, ax = plt.subplots(figsize=(5, 5))\n",
    "    ax.imshow(np.transpose(si.array, (1, 2, 0))[:, :, bands_indices])\n",
    "\n",
    "    plt.xticks([])\n",
    "    plt.yticks([])\n",
    "\n",
    "    ax.imshow(raster_image, cmap=\"jet\", alpha=0.5)\n",
    "    plt.show()"
   ]
  },
  {
   "cell_type": "code",
   "execution_count": null,
   "id": "7cb63314",
   "metadata": {},
   "outputs": [],
   "source": [
    "i = 1\n",
    "polygon = polygons_ilot.iloc[i]\n",
    "filename = filenames_ilot.iloc[i]\n",
    "\n",
    "representer_bout_ilot(polygon, filename)"
   ]
  },
  {
   "cell_type": "markdown",
   "id": "79f211cc",
   "metadata": {},
   "source": [
    "Objectif : superposer la mosaique d'imlage extraite et le cntour d'ilot\n",
    "Superposer les prédictions du modèle\n",
    "comment cropper un raster avec un polygone ?"
   ]
  },
  {
   "cell_type": "markdown",
   "id": "94dc2356",
   "metadata": {},
   "source": [
    "#filename_ilot , créer la liste de si et faire la mosaique avec astrovision"
   ]
  }
 ],
 "metadata": {
  "kernelspec": {
   "display_name": "Python 3 (ipykernel)",
   "language": "python",
   "name": "python3"
  },
  "language_info": {
   "codemirror_mode": {
    "name": "ipython",
    "version": 3
   },
   "file_extension": ".py",
   "mimetype": "text/x-python",
   "name": "python",
   "nbconvert_exporter": "python",
   "pygments_lexer": "ipython3",
   "version": "3.11.6"
  }
 },
 "nbformat": 4,
 "nbformat_minor": 5
}
