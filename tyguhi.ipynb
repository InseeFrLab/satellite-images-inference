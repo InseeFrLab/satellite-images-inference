{
 "cells": [
  {
   "cell_type": "code",
   "execution_count": null,
   "metadata": {},
   "outputs": [],
   "source": [
    "import mlflow\n",
    "import numpy as np\n",
    "from astrovision.data import SatelliteImage, SegmentationLabeledSatelliteImage\n",
    "import yaml\n",
    "import albumentations as A\n",
    "from albumentations.pytorch.transforms import ToTensorV2\n",
    "import torch"
   ]
  },
  {
   "cell_type": "code",
   "execution_count": null,
   "metadata": {},
   "outputs": [],
   "source": []
  },
  {
   "cell_type": "code",
   "execution_count": null,
   "metadata": {},
   "outputs": [],
   "source": [
    "%env MLFLOW_TRACKING_URI=https://projet-slums-detection-128833.user.lab.sspcloud.fr\n",
    "%env MLFLOW_S3_ENDPOINT_URL=https://minio.lab.sspcloud.fr\n",
    "model_name = \"test\"\n",
    "model_version = \"3\"\n",
    "model = mlflow.pytorch.load_model(model_uri=f\"models:/{model_name}/{model_version}\")\n",
    "model_mlflow = mlflow.pyfunc.load_model(model_uri=f\"models:/{model_name}/{model_version}\")\n",
    "n_bands = int(mlflow.get_run(model_mlflow.metadata.run_id).data.params[\"n_bands\"])"
   ]
  },
  {
   "cell_type": "code",
   "execution_count": null,
   "metadata": {},
   "outputs": [],
   "source": [
    "# Import normalization metrics\n",
    "params = yaml.safe_load(\n",
    "    mlflow.artifacts.load_text(\n",
    "        f\"{mlflow.get_run(model_mlflow.metadata.run_id).info.artifact_uri}/model/code/metrics-normalization.yaml\"\n",
    "    )\n",
    ")\n",
    "normalization_mean, normalization_std = params[\"mean\"], params[\"std\"]\n",
    "normalization_mean, normalization_std = (\n",
    "    normalization_mean[:n_bands],\n",
    "    normalization_std[:n_bands],\n",
    ")\n",
    "\n",
    "# Load an image\n",
    "si = SatelliteImage.from_raster(\n",
    "    file_path=\"/vsis3/projet-slums-detection/golden-test/patchs/segmentation/PLEIADES/MAYOTTE_CLEAN/2022/250/ORT_976_2022_0524_8587_U38S_8Bits_0005.jp2\",\n",
    "    dep=None,\n",
    "    date=None,\n",
    "    n_bands=n_bands,\n",
    ")\n",
    "\n",
    "# reproduce transform\n",
    "transform = A.Compose(\n",
    "    [\n",
    "        A.Normalize(\n",
    "            max_pixel_value=255.0,\n",
    "            mean=normalization_mean,\n",
    "            std=normalization_std,\n",
    "        ),\n",
    "        ToTensorV2(),\n",
    "    ]\n",
    ")\n",
    "\n",
    "# normalize the image\n",
    "# normalized_si = transform(image=np.transpose(si.array, [1, 2, 0]))[\"image\"].unsqueeze(dim=0).numpy()\n",
    "normalized_si = transform(image=np.transpose(si.array, [1, 2, 0]))[\"image\"].unsqueeze(dim=0)\n",
    "\n",
    "# predict the mask\n",
    "# mask = (torch.tensor(model.predict(normalized_si)).softmax(dim=1)[:,1,:,:] > 0.5).numpy()[0,:,:]\n",
    "# mask = (torch.tensor(model.predict(normalized_si)).sigmoid() > 0.5).numpy()\n",
    "mask = model(normalized_si).sigmoid() > 0.5\n",
    "\n",
    "lsi = SegmentationLabeledSatelliteImage(si, mask)\n",
    "\n",
    "plot = lsi.plot(bands_indices=[0, 1, 2])"
   ]
  },
  {
   "cell_type": "code",
   "execution_count": null,
   "metadata": {},
   "outputs": [],
   "source": [
    "from functions.instanciators import get_dataset\n",
    "\n",
    "ds = get_dataset(\n",
    "    \"segmentation\",\n",
    "    [\n",
    "        \"projet-slums-detection/golden-test/patchs/segmentation/PLEIADES/MAYOTTE_CLEAN/2022/250/ORT_976_2022_0524_8587_U38S_8Bits_0005.jp2\"\n",
    "    ],\n",
    "    [\n",
    "        \"projet-slums-detection/golden-test/patchs/segmentation/PLEIADES/MAYOTTE_CLEAN/2022/250/ORT_976_2022_0524_8587_U38S_8Bits_0005.np\"\n",
    "    ],\n",
    "    n_bands,\n",
    "    1,\n",
    "    transform,\n",
    ")"
   ]
  },
  {
   "cell_type": "code",
   "execution_count": null,
   "metadata": {},
   "outputs": [],
   "source": [
    "normalized_si"
   ]
  },
  {
   "cell_type": "code",
   "execution_count": null,
   "metadata": {},
   "outputs": [],
   "source": [
    "model.predict(normalized_si)"
   ]
  },
  {
   "cell_type": "code",
   "execution_count": null,
   "metadata": {},
   "outputs": [],
   "source": [
    "n_bands = 3\n",
    "normalization_mean = [70.39515812366652, 88.14856950608, 71.13188369425293]\n",
    "normalization_std = [24.82401944849501, 27.227723561124673, 30.270387883075287]\n",
    "si = SatelliteImage.from_raster(\n",
    "    file_path=\"/vsis3/projet-slums-detection/golden-test/patchs/segmentation/PLEIADES/MAYOTTE_CLEAN/2022/250/ORT_976_2022_0524_8587_U38S_8Bits_0005.jp2\",\n",
    "    dep=None,\n",
    "    date=None,\n",
    "    n_bands=n_bands,\n",
    ")\n",
    "\n",
    "# reproduce transform\n",
    "transform = A.Compose(\n",
    "    [\n",
    "        A.Normalize(\n",
    "            max_pixel_value=1.0,\n",
    "            mean=normalization_mean,\n",
    "            std=normalization_std,\n",
    "        ),\n",
    "        ToTensorV2(),\n",
    "    ]\n",
    ")\n",
    "\n",
    "# normalize the image\n",
    "normalized_si = transform(image=np.transpose(si.array, [1, 2, 0]))[\"image\"].unsqueeze(dim=0).numpy()"
   ]
  },
  {
   "cell_type": "code",
   "execution_count": null,
   "metadata": {},
   "outputs": [],
   "source": [
    "from models.segmentation_module import SegmentationModule\n",
    "from models.components.segmentation_models import SingleClassDeepLabv3Module\n",
    "from config.loss import WeightedBCEWithLogitsLoss\n",
    "from torch import optim"
   ]
  },
  {
   "cell_type": "code",
   "execution_count": null,
   "metadata": {},
   "outputs": [],
   "source": [
    "model_torch = SegmentationModule.load_from_checkpoint(\n",
    "    \"epoch=19-step=10620.ckpt\",\n",
    "    model=SingleClassDeepLabv3Module(),\n",
    "    loss=WeightedBCEWithLogitsLoss(label_smoothing=0, building_class_weight=2),\n",
    "    optimizer=optim.Adam,\n",
    "    optimizer_params={\"lr\": 0.00005},\n",
    "    scheduler=optim.lr_scheduler.OneCycleLR,\n",
    "    scheduler_params={\n",
    "        \"monitor\": \"validation_loss\",\n",
    "        \"mode\": \"min\",\n",
    "        \"patience\": 3,\n",
    "    },\n",
    "    scheduler_interval=\"epoch\",\n",
    ")"
   ]
  },
  {
   "cell_type": "code",
   "execution_count": null,
   "metadata": {},
   "outputs": [],
   "source": [
    "model_torch.eval()\n",
    "mask = (\n",
    "    model_torch(\n",
    "        transform(image=np.transpose(si.array, [1, 2, 0]))[\"image\"].unsqueeze(dim=0)\n",
    "    ).sigmoid()\n",
    "    > 0.5\n",
    ")"
   ]
  },
  {
   "cell_type": "code",
   "execution_count": null,
   "metadata": {},
   "outputs": [],
   "source": [
    "lsi = SegmentationLabeledSatelliteImage(si, mask)\n",
    "\n",
    "plot = lsi.plot(bands_indices=[0, 1, 2])"
   ]
  },
  {
   "cell_type": "code",
   "execution_count": null,
   "metadata": {},
   "outputs": [],
   "source": [
    "si.array.astype(\"float32\")[np.newaxis, :].shape"
   ]
  },
  {
   "cell_type": "code",
   "execution_count": null,
   "metadata": {},
   "outputs": [],
   "source": [
    "model.predict(si.array.astype(\"float32\")[np.newaxis, :])"
   ]
  },
  {
   "cell_type": "code",
   "execution_count": null,
   "metadata": {},
   "outputs": [],
   "source": [
    "model.predict(normalized_si)"
   ]
  },
  {
   "cell_type": "code",
   "execution_count": null,
   "metadata": {},
   "outputs": [],
   "source": [
    "model.predict(normalized_si)"
   ]
  },
  {
   "cell_type": "code",
   "execution_count": null,
   "metadata": {},
   "outputs": [],
   "source": [
    "torch.sigmoid(torch.tensor(model.predict(normalized_si)))"
   ]
  },
  {
   "cell_type": "code",
   "execution_count": null,
   "metadata": {},
   "outputs": [],
   "source": [
    "# Not useful\n",
    "# create inverse transform\n",
    "inv_transform = A.Compose(\n",
    "    [\n",
    "        A.Normalize(\n",
    "            max_pixel_value=255.0,\n",
    "            mean=[\n",
    "                -1 * mean / (255 * std) for mean, std in zip(normalization_mean, normalization_std)\n",
    "            ],\n",
    "            std=[1 / (std * 255**2) for std in normalization_std],\n",
    "        ),\n",
    "    ]\n",
    ")\n",
    "\n",
    "original = np.transpose(si.array, [1, 2, 0])\n",
    "unnormalized = np.round(\n",
    "    inv_transform(image=np.transpose(normalized_si[\"image\"].numpy(), [1, 2, 0]))[\"image\"]\n",
    ").astype(\"uint16\")"
   ]
  }
 ],
 "metadata": {
  "kernelspec": {
   "display_name": "base",
   "language": "python",
   "name": "python3"
  },
  "language_info": {
   "codemirror_mode": {
    "name": "ipython",
    "version": 3
   },
   "file_extension": ".py",
   "mimetype": "text/x-python",
   "name": "python",
   "nbconvert_exporter": "python",
   "pygments_lexer": "ipython3",
   "version": "3.11.6"
  }
 },
 "nbformat": 4,
 "nbformat_minor": 2
}
