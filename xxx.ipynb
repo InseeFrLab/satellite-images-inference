{
 "cells": [
  {
   "cell_type": "code",
   "execution_count": null,
   "id": "0",
   "metadata": {},
   "outputs": [],
   "source": [
    "# os.chdir(\"satellite-images-inference/\")\n",
    "import os\n",
    "\n",
    "import geopandas as gpd\n",
    "import mlflow\n",
    "import numpy as np\n",
    "import torch\n",
    "from astrovision.data import SegmentationLabeledSatelliteImage\n",
    "from astrovision.plot import make_mosaic\n",
    "from matplotlib import pyplot as plt\n",
    "\n",
    "from app.utils.data import get_file_system, get_filename_to_polygons, get_satellite_image\n",
    "from app.utils.predict import make_batched_prediction\n",
    "from app.utils.preprocess_image import get_transform\n",
    "from app.utils.split_and_normalize import get_normalized_sis\n",
    "\n",
    "os.environ[\"MLFLOW_MODEL_NAME\"] = \"Segmentation-multiclass\"\n",
    "os.environ[\"MLFLOW_MODEL_VERSION\"] = \"1\"\n",
    "os.environ[\"MLFLOW_TRACKING_URI\"] = \"https://projet-slums-detection-mlflow.user.lab.sspcloud.fr/\"\n",
    "\n",
    "try:\n",
    "    del os.environ[\"AWS_SESSION_TOKEN\"]\n",
    "except KeyError:\n",
    "    pass\n",
    "\n",
    "%load_ext autoreload\n",
    "%autoreload 2"
   ]
  },
  {
   "cell_type": "code",
   "execution_count": null,
   "id": "1",
   "metadata": {},
   "outputs": [],
   "source": [
    "fs = get_file_system()\n",
    "dep = \"MAYOTTE\"\n",
    "year = 2022\n",
    "n_bands = 3\n",
    "\n",
    "filename_table = get_filename_to_polygons(dep, year, fs)\n",
    "\n",
    "roi = gpd.read_file(fs.open(f\"projet-slums-detection/data-roi/{dep}.geojson\", \"rb\"))\n",
    "roi_polygon = roi.geometry.iloc[0]\n",
    "\n",
    "images = filename_table.loc[\n",
    "    filename_table.geometry.intersects(roi_polygon),\n",
    "    \"filename\",\n",
    "].tolist()\n",
    "\n",
    "for idx in range(409, 410):\n",
    "    image = images[idx]\n",
    "    si = get_satellite_image(image, n_bands)\n",
    "    print(si.bounds)\n",
    "    print(si.crs)\n",
    "    plt.imshow(np.transpose(si.array, (1, 2, 0)))\n",
    "    plt.show()"
   ]
  },
  {
   "cell_type": "code",
   "execution_count": null,
   "id": "2",
   "metadata": {},
   "outputs": [],
   "source": [
    "model_name = os.environ[\"MLFLOW_MODEL_NAME\"]\n",
    "model_version = os.environ[\"MLFLOW_MODEL_VERSION\"]\n",
    "\n",
    "model = mlflow.pytorch.load_model(model_uri=f\"models:/{model_name}/{model_version}\")"
   ]
  },
  {
   "cell_type": "code",
   "execution_count": null,
   "id": "3",
   "metadata": {},
   "outputs": [],
   "source": [
    "tiles_size = 250\n",
    "model.cuda().eval()\n",
    "normalized_sis = []\n",
    "tiles_size = 250\n",
    "augment_size = 512\n",
    "n_bands = 3\n",
    "normalization_mean = [67.43142604916895, 83.8419884471921, 67.89098874405661]\n",
    "normalization_std = [27.83435228788356, 30.8127535004091, 32.37272004596061]\n",
    "sliding_window_split = True\n",
    "overlap = 125\n",
    "batch_size = 25"
   ]
  },
  {
   "cell_type": "code",
   "execution_count": null,
   "id": "4",
   "metadata": {},
   "outputs": [],
   "source": [
    "transform = get_transform(tiles_size, augment_size, n_bands, normalization_mean, normalization_std)\n",
    "\n",
    "normalized_sis_tensor, si_splitted = get_normalized_sis(\n",
    "    image=image,\n",
    "    n_bands=n_bands,\n",
    "    tiles_size=tiles_size,\n",
    "    normalization_mean=normalization_mean,\n",
    "    transform=transform,\n",
    "    sliding_window_split=sliding_window_split,\n",
    "    overlap=overlap,\n",
    ")"
   ]
  },
  {
   "cell_type": "code",
   "execution_count": null,
   "id": "5",
   "metadata": {},
   "outputs": [],
   "source": [
    "prediction = make_batched_prediction(\n",
    "    normalized_si=normalized_sis_tensor.to(torch.device(\"cuda:0\" if torch.cuda.is_available() else \"cpu\")),\n",
    "    model=model,\n",
    "    tiles_size=tiles_size,\n",
    "    batch_size=batch_size,\n",
    ")  # already softmaxed"
   ]
  },
  {
   "cell_type": "code",
   "execution_count": null,
   "id": "6",
   "metadata": {},
   "outputs": [],
   "source": [
    "lsi_splitted = [SegmentationLabeledSatelliteImage(si_splitted[i], prediction[i], logits=True) for i in range(len(si_splitted))]\n",
    "lsi = make_mosaic(lsi_splitted, [i for i in range(n_bands)])  # get back to full image"
   ]
  },
  {
   "cell_type": "code",
   "execution_count": null,
   "id": "7",
   "metadata": {},
   "outputs": [],
   "source": [
    "fig, ax = plt.subplots(figsize=(6, 6))\n",
    "ax.imshow(np.transpose(lsi.satellite_image.array, (1, 2, 0))[:, :, list(range(n_bands))])\n",
    "ax.imshow(lsi.label[1], alpha=0.5, cmap=\"jet\", vmin=0, vmax=lsi.label.max(), interpolation=\"none\")"
   ]
  }
 ],
 "metadata": {
  "kernelspec": {
   "display_name": ".venv",
   "language": "python",
   "name": "python3"
  },
  "language_info": {
   "codemirror_mode": {
    "name": "ipython",
    "version": 3
   },
   "file_extension": ".py",
   "mimetype": "text/x-python",
   "name": "python",
   "nbconvert_exporter": "python",
   "pygments_lexer": "ipython3",
   "version": "3.13.5"
  }
 },
 "nbformat": 4,
 "nbformat_minor": 5
}
